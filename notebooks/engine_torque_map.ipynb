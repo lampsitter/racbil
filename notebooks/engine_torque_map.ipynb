{
 "cells": [
  {
   "cell_type": "markdown",
   "metadata": {},
   "source": [
    "# Engine torque map\n",
    "\n",
    "Makes it easy to plot the engine map."
   ]
  },
  {
   "cell_type": "code",
   "execution_count": null,
   "metadata": {},
   "outputs": [],
   "source": [
    "import math\n",
    "import itertools\n",
    "import numpy as np\n",
    "import matplotlib.pyplot as plt\n",
    "%matplotlib notebook\n",
    "\n",
    "def rpm_to_rads(rpm):\n",
    "    return rpm / 60 * (2.0 * math.pi)\n",
    "\n",
    "def friction(coloumb_torque, viscous_coeff, rpm):\n",
    "    return -(coloumb_torque + viscous_coeff \\\n",
    "             * rpm_to_rads(rpm))\n",
    "\n",
    "rpms = [0., 400., 500., 1000., 1500., 2000., 2500., 3000., 3500., 4000., 4500., 5000., 5500., 6000.]\n",
    "throttles = [0.0, 1.0]\n",
    "coloumb_t = 50.0\n",
    "visc_coeff = 0.06\n",
    "brake_torque = [friction(coloumb_t, visc_coeff, rpm) for rpm in rpms]\n",
    "\n",
    "max_eng_torque = 150.0\n",
    "t = lambda x: max_eng_torque * x\n",
    "max_torque = [friction(coloumb_t, visc_coeff, 0), friction(coloumb_t, visc_coeff, 400), t(0.0),\n",
    "              t(0.4), t(0.6), t(0.8), t(0.9), t(0.95), t(1.0), t(0.99), t(0.93),\n",
    "             t(0.85), t(0.75), t(0.6)]\n",
    "\n",
    "fig = plt.figure()\n",
    "ax = fig.add_subplot(1, 1, 1)\n",
    "ax.set_xlabel(\"Engine angular velocity(RPM)\")\n",
    "ax.set_ylabel(\"Torque(Nm)\")\n",
    "ax.plot(rpms, brake_torque, label=\"Throttle 0%\")\n",
    "ax.plot(rpms, max_torque, label=\"Throttle 100%\")\n",
    "ax.plot(rpms, [rpm_to_rads(rpm) * torque / 1000 \\\n",
    "               for (rpm, torque) in itertools.zip_longest(rpms, max_torque)], label=\"Power(kW)\")\n",
    "ax.legend()"
   ]
  },
  {
   "cell_type": "code",
   "execution_count": null,
   "metadata": {},
   "outputs": [],
   "source": [
    "# Ideal traction hyperbola\n",
    "%matplotlib notebook\n",
    "# Constants\n",
    "wheel_radius = 0.344\n",
    "min_rpm = 800\n",
    "max_rpm = 5500\n",
    "max_vel = 200.0\n",
    "gears = [3.8, 2.6, 1.8, 1.29, 1.0, 0.8]\n",
    "diff = 3.2\n",
    "\n",
    "\n",
    "min_vel = (rpm_to_rads(min_rpm) * wheel_radius / (gears[0] * diff))\n",
    "vel_range = np.linspace(min_vel, max_vel / 3.6, 100)\n",
    "rpm_range = np.linspace(min_rpm, max_rpm, 100)\n",
    "torque_range = np.interp(rpm_range, rpms, max_torque)\n",
    "\n",
    "max_power = max([t * rpm_to_rads(v) for (t, v) in itertools.zip_longest(torque_range, rpm_range)])\n",
    "\n",
    "def g(gear):\n",
    "    vel = []\n",
    "    force = []\n",
    "    tot_gear = gear * diff\n",
    "    \n",
    "    for (c, x) in itertools.zip_longest(torque_range, rpm_range):\n",
    "        force.append((c * tot_gear) / wheel_radius)\n",
    "        vel.append(rpm_to_rads(x) * wheel_radius / tot_gear)  \n",
    "    return (force, vel)\n",
    "\n",
    "fig = plt.figure()\n",
    "fig.suptitle(\"Traction hyperbola\")\n",
    "ax = fig.add_subplot()\n",
    "ax.set_xlabel(\"Velocity (km/h)\")\n",
    "ax.set_ylabel(\"Force (kN)\")\n",
    "ax.set_ylim([0.0, max(g(gears[0])[0]) * 1e-3 + 1])\n",
    "ax.set_xlim([min_vel, max_vel])\n",
    "ax.plot(vel_range * 3.6, (max_power / vel_range) * 1e-3)\n",
    "\n",
    "for (f, v) in [g(gear) for gear in gears]:\n",
    "    ax.plot(np.array(v) * 3.6, np.array(f) * 1e-3)\n",
    "    \n",
    "print(f\"Power = {max_power / 1000}kW\")\n",
    "\n",
    "for (i, gear) in enumerate(gears):\n",
    "    print(f\"{i+1} Min = {g(gear)[1][0] * 3.6:.4}km/h. Max = {g(gear)[1][-1] * 3.6:.4}km/h\")"
   ]
  },
  {
   "cell_type": "code",
   "execution_count": null,
   "metadata": {},
   "outputs": [],
   "source": [
    "# Theoretical cdA constant\n",
    "air_density = 1.2041\n",
    "# TODO: Exclude tire model rolling resistance\n",
    "vel = vel_range[-1]\n",
    "f = max_power / vel\n",
    "print(f\"cdA = {f / (0.5 * air_density * vel * vel)}\")"
   ]
  },
  {
   "cell_type": "code",
   "execution_count": null,
   "metadata": {},
   "outputs": [],
   "source": [
    "# C code\n",
    "print(f\"Table torque_map = table_with_capacity({len(throttles)}, {len(rpms)});\")\n",
    "for (i, throttle) in enumerate(throttles):\n",
    "    print(f\"torque_map.x[{i}] = {throttle};\")\n",
    "\n",
    "for (i, rpm) in enumerate(rpms):\n",
    "    # angular velocity must be in rad/s\n",
    "    print(f\"torque_map.y[{i}] = {rpm_to_rads(rpm)};\")\n",
    "\n",
    "for (i, bt) in enumerate(brake_torque):\n",
    "    print(f\"torque_map.z[0][{i}] = {bt};\")\n",
    "\n",
    "for (i, mt) in enumerate(max_torque):\n",
    "    print(f\"torque_map.z[1][{i}] = {mt};\")"
   ]
  }
 ],
 "metadata": {
  "kernelspec": {
   "display_name": "Python 3",
   "language": "python",
   "name": "python3"
  },
  "language_info": {
   "codemirror_mode": {
    "name": "ipython",
    "version": 3
   },
   "file_extension": ".py",
   "mimetype": "text/x-python",
   "name": "python",
   "nbconvert_exporter": "python",
   "pygments_lexer": "ipython3",
   "version": "3.10.2"
  }
 },
 "nbformat": 4,
 "nbformat_minor": 4
}
