{
 "cells": [
  {
   "cell_type": "markdown",
   "metadata": {},
   "source": [
    "# Engine torque map\n",
    "\n",
    "Makes it easy to plot the engine map."
   ]
  },
  {
   "cell_type": "code",
   "execution_count": null,
   "metadata": {},
   "outputs": [],
   "source": [
    "import math\n",
    "import itertools\n",
    "import numpy as np\n",
    "import matplotlib.pyplot as plt\n",
    "\n",
    "def rpm_to_rads(rpm):\n",
    "    return rpm / 60 * (2.0 * math.pi)\n",
    "\n",
    "def friction(coloumb_torque, viscous_coeff, rpm):\n",
    "    return -(coloumb_torque + viscous_coeff \\\n",
    "             * rpm_to_rads(rpm))\n",
    "\n",
    "rpms = [0., 400., 500., 1000., 1500., 2000., 2500., 3000., 3500., 4000., 4500., 5000., 5500., 6000.]\n",
    "throttles = [0.0, 1.0]\n",
    "coloumb_t = 50.0\n",
    "visc_coeff = 0.06\n",
    "brake_torque = [friction(coloumb_t, visc_coeff, rpm) for rpm in rpms]\n",
    "\n",
    "max_eng_torque = 150.0\n",
    "t = lambda x: max_eng_torque * x\n",
    "max_torque = [friction(coloumb_t, visc_coeff, 0), friction(coloumb_t, visc_coeff, 400), t(0.0),\n",
    "              t(0.4), t(0.6), t(0.8), t(0.9), t(0.95), t(1.0), t(0.99), t(0.93),\n",
    "             t(0.85), t(0.75), t(0.6)]\n",
    "\n",
    "fig = plt.figure()\n",
    "ax = fig.add_subplot(1, 1, 1)\n",
    "ax.set_xlabel(\"Engine angular velocity(RPM)\")\n",
    "ax.set_ylabel(\"Torque(Nm)\")\n",
    "ax.plot(rpms, brake_torque, label=\"Throttle 0%\")\n",
    "ax.plot(rpms, max_torque, label=\"Throttle 100%\")\n",
    "ax.plot(rpms, [rpm_to_rads(rpm) * torque / 1000 \\\n",
    "               for (rpm, torque) in itertools.zip_longest(rpms, max_torque)], label=\"Power(kW)\")\n",
    "ax.legend()"
   ]
  },
  {
   "cell_type": "code",
   "execution_count": null,
   "metadata": {},
   "outputs": [],
   "source": [
    "# C code\n",
    "print(f\"Table torque_map = table_with_capacity({len(throttles)}, {len(rpms)});\")\n",
    "for (i, throttle) in enumerate(throttles):\n",
    "    print(f\"torque_map.x[{i}] = {throttle};\")\n",
    "\n",
    "for (i, rpm) in enumerate(rpms):\n",
    "    # angular velocity must be in rad/s\n",
    "    print(f\"torque_map.y[{i}] = {rpm_to_rads(rpm)};\")\n",
    "\n",
    "for (i, bt) in enumerate(brake_torque):\n",
    "    print(f\"torque_map.z[0][{i}] = {bt};\")\n",
    "\n",
    "for (i, mt) in enumerate(max_torque):\n",
    "    print(f\"torque_map.z[1][{i}] = {mt};\")"
   ]
  }
 ],
 "metadata": {
  "kernelspec": {
   "display_name": "Python 3",
   "language": "python",
   "name": "python3"
  },
  "language_info": {
   "codemirror_mode": {
    "name": "ipython",
    "version": 3
   },
   "file_extension": ".py",
   "mimetype": "text/x-python",
   "name": "python",
   "nbconvert_exporter": "python",
   "pygments_lexer": "ipython3",
   "version": "3.10.2"
  }
 },
 "nbformat": 4,
 "nbformat_minor": 4
}
