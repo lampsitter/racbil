{
 "cells": [
  {
   "cell_type": "markdown",
   "metadata": {},
   "source": [
    "# Vehicle telemetry"
   ]
  },
  {
   "cell_type": "code",
   "execution_count": null,
   "metadata": {},
   "outputs": [],
   "source": [
    "import gzip\n",
    "import math\n",
    "import json\n",
    "import itertools\n",
    "import numpy as np\n",
    "import matplotlib.pyplot as plt\n",
    "from itertools import zip_longest\n",
    "\n",
    "\n",
    "def to_rpm(rads):\n",
    "    return rads * 60.0 / (math.pi * 2.0)\n",
    "\n",
    "data = None\n",
    "with gzip.open(\"../output.json.gz\") as fs:\n",
    "    data = json.load(fs)\n",
    "\n",
    "dt = data[\"dt\"]\n",
    "print(f\"Time step: {1.0 / dt:.0f}Hz, {dt:0.7}s\")\n",
    "\n",
    "time = data[\"elapsed_time\"]"
   ]
  },
  {
   "cell_type": "code",
   "execution_count": null,
   "metadata": {},
   "outputs": [],
   "source": [
    "%matplotlib notebook\n",
    "fig, axs = plt.subplots(2, 1, constrained_layout=True)\n",
    "\n",
    "axs[0].set_title(\"Front Wheels velocities\")\n",
    "\n",
    "axs[1].set_xlabel(\"Elapsed time(s)\")\n",
    "axs[1].set_title(\"Rear Wheels velocities\")\n",
    "\n",
    "axs[0].plot(time, [to_rpm(vel) for vel in data[\"fl_wheel\"][\"angular_velocity\"]], label=\"Fl wheel(rpm)\")\n",
    "axs[0].plot(time, [to_rpm(vel) for vel in data[\"fr_wheel\"][\"angular_velocity\"]], label=\"Fr wheel(rpm)\")\n",
    "axs[1].plot(time, [to_rpm(vel) for vel in data[\"rl_wheel\"][\"angular_velocity\"]], label=\"Rl wheel(rpm)\")\n",
    "axs[1].plot(time, [to_rpm(vel) for vel in data[\"rr_wheel\"][\"angular_velocity\"]], label=\"Rr wheel(rpm)\")\n",
    "\n",
    "axs[0].legend()\n",
    "axs[1].legend()"
   ]
  },
  {
   "cell_type": "code",
   "execution_count": null,
   "metadata": {},
   "outputs": [],
   "source": [
    "%matplotlib notebook\n",
    "\n",
    "fig = plt.figure()\n",
    "\n",
    "ax = fig.add_subplot(1, 1, 1)\n",
    "ax.set_title(\"Wheel slip ratios\")\n",
    "\n",
    "ax.plot(time, data[\"fl_wheel\"][\"slip_ratio\"], label=\"fl\")\n",
    "ax.plot(time, data[\"fr_wheel\"][\"slip_ratio\"], label=\"fr\")\n",
    "ax.plot(time, data[\"rl_wheel\"][\"slip_ratio\"], label=\"rl\")\n",
    "ax.plot(time, data[\"rr_wheel\"][\"slip_ratio\"], label=\"rr\")\n",
    "ax.legend()"
   ]
  },
  {
   "cell_type": "code",
   "execution_count": null,
   "metadata": {},
   "outputs": [],
   "source": [
    "%matplotlib notebook\n",
    "\n",
    "fig = plt.figure()\n",
    "\n",
    "ax = fig.add_subplot(1, 1, 1)\n",
    "ax.set_title(\"Wheel slip angles\")\n",
    "\n",
    "ax.plot(time, data[\"fl_wheel\"][\"slip_angle\"], label=\"fl\")\n",
    "ax.plot(time, data[\"fr_wheel\"][\"slip_angle\"], label=\"fr\")\n",
    "ax.plot(time, data[\"rl_wheel\"][\"slip_angle\"], label=\"rl\")\n",
    "ax.plot(time, data[\"rr_wheel\"][\"slip_angle\"], label=\"rr\")\n",
    "ax.legend()"
   ]
  },
  {
   "cell_type": "code",
   "execution_count": null,
   "metadata": {},
   "outputs": [],
   "source": [
    "%matplotlib notebook\n",
    "\n",
    "fig = plt.figure()\n",
    "\n",
    "ax = fig.add_subplot(1, 1, 1)\n",
    "ax.set_title(\"Wheel angles\")\n",
    "\n",
    "ax.plot(time, data[\"fl_wheel\"][\"angle\"], label=\"fl\")\n",
    "ax.plot(time, data[\"fr_wheel\"][\"angle\"], label=\"fr\")\n",
    "ax.plot(time, data[\"rl_wheel\"][\"angle\"], label=\"rl\")\n",
    "ax.plot(time, data[\"rr_wheel\"][\"angle\"], label=\"rr\")\n",
    "ax.legend()"
   ]
  },
  {
   "cell_type": "code",
   "execution_count": null,
   "metadata": {},
   "outputs": [],
   "source": [
    "%matplotlib notebook\n",
    "\n",
    "fig, axs = plt.subplots(5, 1, constrained_layout=True)\n",
    "\n",
    "axs[0].plot(time, data[\"gear\"], color=\"yellow\", label=\"Gear\")\n",
    "axs[1].plot(time, data[\"steering\"], label=\"Steering\")\n",
    "axs[2].plot(time, data[\"throttle\"], 'tab:red', label=\"Throttle\")\n",
    "axs[3].plot(time, data[\"brake\"], 'tab:green', label=\"Brake\")\n",
    "axs[4].plot(time, data[\"clutch\"], 'tab:orange', label=\"Clutch\")\n",
    "for a in axs:\n",
    "    a.legend()"
   ]
  },
  {
   "cell_type": "code",
   "execution_count": null,
   "metadata": {},
   "outputs": [],
   "source": [
    "%matplotlib inline\n",
    "\n",
    "fig = plt.figure()\n",
    "ax = fig.add_subplot(1, 1, 1)\n",
    "ax.plot(data[\"position_x\"], data[\"position_y\"], label=\"Position\")"
   ]
  },
  {
   "cell_type": "code",
   "execution_count": null,
   "metadata": {},
   "outputs": [],
   "source": [
    "%matplotlib notebook\n",
    "\n",
    "fig, axs = plt.subplots(3, 1, constrained_layout=True)\n",
    "axs[0].set_title(\"Linear velocity x\")\n",
    "axs[1].set_title(\"Linear velocity y\")\n",
    "\n",
    "axs[0].plot(time, data[\"velocity_x\"], label=\"CoG\")\n",
    "axs[0].plot(time, data[\"fl_wheel\"][\"hub_velocity_x\"], label=\"flw\")\n",
    "axs[0].plot(time, data[\"fr_wheel\"][\"hub_velocity_x\"], label=\"frw\")\n",
    "axs[0].plot(time, data[\"rl_wheel\"][\"hub_velocity_x\"], label=\"rlw\")\n",
    "axs[0].plot(time, data[\"rr_wheel\"][\"hub_velocity_x\"], label=\"rrw\")\n",
    "\n",
    "axs[1].plot(time, data[\"velocity_y\"], label=\"CoG\")\n",
    "axs[1].plot(time, data[\"fl_wheel\"][\"hub_velocity_y\"], label=\"flw\")\n",
    "axs[1].plot(time, data[\"fr_wheel\"][\"hub_velocity_y\"], label=\"frw\")\n",
    "axs[1].plot(time, data[\"rl_wheel\"][\"hub_velocity_y\"], label=\"rlw\")\n",
    "axs[1].plot(time, data[\"rr_wheel\"][\"hub_velocity_y\"], label=\"rrw\")\n",
    "\n",
    "axs[2].plot(time, data[\"yaw_velocity\"], label=\"yaw_velocity\")\n",
    "for a in axs:\n",
    "    a.legend()"
   ]
  },
  {
   "cell_type": "code",
   "execution_count": null,
   "metadata": {},
   "outputs": [],
   "source": [
    "%matplotlib notebook\n",
    "\n",
    "fig = plt.figure()\n",
    "ax = fig.add_subplot(1, 1, 1)\n",
    "ax.set_title(\"Clutch velocity\")\n",
    "ax.plot(time, [to_rpm(vel) for vel in data[\"engine\"][\"angular_velocity\"]], label=\"Engine(rpm)\")\n",
    "ax.plot(time, [to_rpm(vel) for vel in data[\"gearbox_input_shaft\"][\"angular_velocity\"]], \\\n",
    "        label=\"Input shaft(rpm)\")\n",
    "\n",
    "ax.legend()"
   ]
  },
  {
   "cell_type": "code",
   "execution_count": null,
   "metadata": {},
   "outputs": [],
   "source": [
    "%matplotlib notebook\n",
    "\n",
    "fig = plt.figure()\n",
    "ax = fig.add_subplot(1, 1, 1)\n",
    "ax.set_title(\"Clutch torque\")\n",
    "ax.plot(time, data[\"engine\"][\"torque\"], label=\"Engine\")\n",
    "ax.plot(time, data[\"gearbox_input_shaft\"][\"torque\"], label=\"Gearbox input shaft\")\n",
    "ax.legend()"
   ]
  },
  {
   "cell_type": "code",
   "execution_count": null,
   "metadata": {},
   "outputs": [],
   "source": [
    "%matplotlib notebook\n",
    "\n",
    "fl_input = data[\"fl_wheel\"][\"input_torque\"]\n",
    "fr_input = data[\"fr_wheel\"][\"input_torque\"]\n",
    "fl_react = data[\"fl_wheel\"][\"reaction_torque\"]\n",
    "fr_react = data[\"fr_wheel\"][\"reaction_torque\"]\n",
    "fl_brake = data[\"fl_wheel\"][\"brake_torque\"]\n",
    "fr_brake = data[\"fr_wheel\"][\"brake_torque\"]\n",
    "\n",
    "fl_i = [i + r + b for ((i, r), b) in zip_longest(zip_longest(fl_input, fl_react), fl_brake)]\n",
    "fr_i = [i + r + b for ((i, r), b) in zip_longest(zip_longest(fr_input, fr_react), fr_brake)]\n",
    "\n",
    "fig, axs = plt.subplots(4, 1, constrained_layout=True)\n",
    "fig.suptitle(\"Torque front wheels\")\n",
    "\n",
    "axs[0].set_title(\"Input\")\n",
    "axs[1].set_title(\"Brake\")\n",
    "axs[2].set_title(\"Reaction\")\n",
    "axs[3].set_title(\"Sum\")\n",
    "\n",
    "axs[0].plot(time, fl_input, label=\"left\")\n",
    "axs[0].plot(time, fr_input, label=\"right\")\n",
    "\n",
    "axs[1].plot(time, fl_brake, label=\"left\")\n",
    "axs[1].plot(time, fr_brake, label=\"right\")\n",
    "\n",
    "axs[2].plot(time, fl_react, label=\"left\")\n",
    "axs[2].plot(time, fr_react, label=\"right\")\n",
    "\n",
    "axs[3].plot(time, fl_i, label=\"left\")\n",
    "axs[3].plot(time, fr_i, label=\"right\")\n",
    "\n",
    "for a in axs:\n",
    "    a.legend()"
   ]
  },
  {
   "cell_type": "code",
   "execution_count": null,
   "metadata": {},
   "outputs": [],
   "source": [
    "%matplotlib notebook\n",
    "\n",
    "rl_input = data[\"rl_wheel\"][\"input_torque\"]\n",
    "rr_input = data[\"rr_wheel\"][\"input_torque\"]\n",
    "rl_react = data[\"rl_wheel\"][\"reaction_torque\"]\n",
    "rr_react = data[\"rr_wheel\"][\"reaction_torque\"]\n",
    "rl_brake = data[\"rl_wheel\"][\"brake_torque\"]\n",
    "rr_brake = data[\"rr_wheel\"][\"brake_torque\"]\n",
    "\n",
    "rl_i = [i + r + b for ((i, r), b) in zip_longest(zip_longest(rl_input, rl_react), rl_brake)]\n",
    "rr_i = [i + r + b for ((i, r), b) in zip_longest(zip_longest(rr_input, rr_react), rr_brake)]\n",
    "\n",
    "fig, axs = plt.subplots(4, 1, constrained_layout=True)\n",
    "fig.suptitle(\"Torque rear wheels\")\n",
    "\n",
    "axs[0].set_title(\"Input\")\n",
    "axs[1].set_title(\"Brake\")\n",
    "axs[2].set_title(\"Reaction\")\n",
    "axs[3].set_title(\"Sum\")\n",
    "\n",
    "axs[0].plot(time, rl_input, label=\"left\")\n",
    "axs[0].plot(time, rr_input, label=\"right\")\n",
    "\n",
    "axs[1].plot(time, rl_brake, label=\"left\")\n",
    "axs[1].plot(time, rr_brake, label=\"right\")\n",
    "\n",
    "axs[2].plot(time, rl_react, label=\"left\")\n",
    "axs[2].plot(time, rr_react, label=\"right\")\n",
    "\n",
    "axs[3].plot(time, rl_i, label=\"left\")\n",
    "axs[3].plot(time, rr_i, label=\"right\")\n",
    "\n",
    "for a in axs:\n",
    "    a.legend()"
   ]
  }
 ],
 "metadata": {
  "kernelspec": {
   "display_name": "Python 3",
   "language": "python",
   "name": "python3"
  },
  "language_info": {
   "codemirror_mode": {
    "name": "ipython",
    "version": 3
   },
   "file_extension": ".py",
   "mimetype": "text/x-python",
   "name": "python",
   "nbconvert_exporter": "python",
   "pygments_lexer": "ipython3",
   "version": "3.10.3"
  }
 },
 "nbformat": 4,
 "nbformat_minor": 4
}
