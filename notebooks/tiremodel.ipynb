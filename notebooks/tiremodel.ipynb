{
 "cells": [
  {
   "cell_type": "code",
   "execution_count": null,
   "metadata": {},
   "outputs": [],
   "source": [
    "from tiremodel import *\n",
    "import math\n",
    "import numpy as np\n",
    "import matplotlib.pyplot as plt\n",
    "%matplotlib notebook\n",
    "\n",
    "model = default_tiremodel()\n",
    "\n",
    "fz = 2000.0\n",
    "cf = 1.0\n",
    "\n",
    "fig, ax = plt.subplots(1, 1, constrained_layout=True)\n",
    "\n",
    "slip = np.linspace(-2.0, 2.0, 100)\n",
    "\n",
    "\n",
    "ax.plot(slip, [model.force(fz, r, 0.0, cf).x / fz for r in slip])\n",
    "ax.plot(slip, [model.force(fz, 0.0, r, cf).y / fz for r in slip])"
   ]
  },
  {
   "cell_type": "code",
   "execution_count": null,
   "metadata": {},
   "outputs": [],
   "source": [
    "%matplotlib notebook\n",
    "\n",
    "fig, ax = plt.subplots(1, 1, constrained_layout=True)\n",
    "ax.set_xlabel(\"Fx\")\n",
    "ax.set_ylabel(\"Fy\")\n",
    "\n",
    "slip_angles = np.radians(np.array([-12, -8, -5, -2, -1, 0, 1, 2, 5, 8, 12]))\n",
    "slip_ratios = np.array([-0.5, -0.25, -0.15, -0.02, 0,\n",
    "                        0.02, 0.15, 0.2, 0.25, 0.5])\n",
    "\n",
    "for angle in slip_angles:\n",
    "    x = []\n",
    "    y = []\n",
    "    for ratio in np.linspace(-1.5, 1.5, 500):\n",
    "        force = model.force(fz, ratio, angle, cf)\n",
    "        x.append(force.x)\n",
    "        y.append(force.y)\n",
    "    ax.plot(x, y, color=\"blue\")\n",
    "\n",
    "\n",
    "for ratio in slip_ratios:\n",
    "    x = []\n",
    "    y = []\n",
    "    for angle in np.linspace(-1.5, 1.5, 500):\n",
    "        force = model.force(fz, ratio, angle, cf)\n",
    "        x.append(force.x)\n",
    "        y.append(force.y)\n",
    "    ax.plot(x, y, color=\"orange\")"
   ]
  }
 ],
 "metadata": {
  "kernelspec": {
   "display_name": "Python 3",
   "language": "python",
   "name": "python3"
  },
  "language_info": {
   "codemirror_mode": {
    "name": "ipython",
    "version": 3
   },
   "file_extension": ".py",
   "mimetype": "text/x-python",
   "name": "python",
   "nbconvert_exporter": "python",
   "pygments_lexer": "ipython3",
   "version": "3.10.4"
  }
 },
 "nbformat": 4,
 "nbformat_minor": 5
}
